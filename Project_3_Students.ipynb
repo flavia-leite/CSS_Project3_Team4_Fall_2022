{
  "cells": [
    {
      "cell_type": "markdown",
      "metadata": {
        "id": "kD3cN9SbOQpG"
      },
      "source": [
        "\n",
        "# Computational Social Science Project #3 \n",
        "\n",
        "*Group number:* 4\n",
        "\n",
        "*Group members:*   \n",
        "* Peter Amerkhanian\n",
        "* Betsy Pleasants\n",
        "* Alagia Cirolia\n",
        "* Flavia Leite\n",
        "\n",
        "\n",
        "*Semester:* Fall 2022"
      ]
    },
    {
      "cell_type": "markdown",
      "source": [
        "**INTRO from project instructions:**\n",
        "\n",
        "In this project, you will learn how to develop machine learning models for classification problems. You will be working with data drawn from the City of\n",
        "Chicago’s Open Data Portal. Specifically, you will develop models to predict\n",
        "whether a business passes or fails a food inspection. Food safety is a major concern for city governments, and most regularly conduct food safety inspections\n",
        "to ensure that establishments maintain adequate safety standards. However,\n",
        "municipal governments have limited resources and cannot audit every establishment.\n",
        "\n",
        "You have been tasked with developing an algorithm that will help the Department of Public Health prioritize establishments to audit. You have been\n",
        "provided with a dataset that combines various open data sets curated by the\n",
        "City of Chicago as part of a program to improve food inspection auditing. Your\n",
        "goal is to predict the Results column using features taken from datasets covering business information, previous inspection results, and neighborhood information."
      ],
      "metadata": {
        "id": "d1BlibOTXjKi"
      }
    },
    {
      "cell_type": "code",
      "source": [
        "#### Colab instructions\n",
        "# Everyone needs to run this cell in order to connect colab and gdrive to read their data in\n",
        "\n",
        "#from google.colab import drive \n",
        "#drive.mount ('/content/gdrive/', force_remount=True)"
      ],
      "metadata": {
        "colab": {
          "base_uri": "https://localhost:8080/"
        },
        "id": "QQ7G6ZvEPmbt",
        "outputId": "61886603-90f7-4f13-a79a-a0c5e1363bed"
      },
      "execution_count": null,
      "outputs": [
        {
          "output_type": "stream",
          "name": "stdout",
          "text": [
            "Mounted at /content/gdrive/\n"
          ]
        }
      ]
    },
    {
      "cell_type": "code",
      "execution_count": null,
      "metadata": {
        "id": "41wuyKKmOQpH"
      },
      "outputs": [],
      "source": [
        "### Everyone run this cell to import what's needed\n",
        "\n",
        "import pandas as pd\n",
        "import numpy as np\n",
        "pd.set_option('display.max_columns', None)\n",
        "import seaborn as sns\n",
        "import matplotlib.pyplot as plt\n",
        "%matplotlib inline\n",
        "from sklearn.preprocessing import LabelBinarizer\n",
        "\n",
        "# Make sure to import other libraries that will be necessary for training models!\n",
        "\n",
        "import os as os\n",
        "#For linking gdrive and notebook to import data"
      ]
    },
    {
      "cell_type": "code",
      "source": [
        "#%cd /content/gdrive/MyDrive/Colab\\ Notebooks/project\\ 3/ # setting up working directory so we can access data for import\n",
        "#os.getcwd()"
      ],
      "metadata": {
        "colab": {
          "base_uri": "https://localhost:8080/"
        },
        "id": "ZpjO5QwLQQSm",
        "outputId": "3a595cac-9149-42b7-c52c-36f210dbea21"
      },
      "execution_count": null,
      "outputs": [
        {
          "output_type": "stream",
          "name": "stdout",
          "text": [
            "[Errno 2] No such file or directory: '/content/gdrive/MyDrive/Colab Notebooks/project 3/ # setting up working directory so we can access data for import'\n",
            "/content\n"
          ]
        }
      ]
    },
    {
      "cell_type": "code",
      "execution_count": null,
      "metadata": {
        "id": "m-ORLPDYOQpI",
        "colab": {
          "base_uri": "https://localhost:8080/",
          "height": 389
        },
        "outputId": "ed6dc4ce-d305-4965-97d0-2eb3037c9b7c"
      },
      "outputs": [
        {
          "output_type": "error",
          "ename": "FileNotFoundError",
          "evalue": "ignored",
          "traceback": [
            "\u001b[0;31m---------------------------------------------------------------------------\u001b[0m",
            "\u001b[0;31mFileNotFoundError\u001b[0m                         Traceback (most recent call last)",
            "\u001b[0;32m<ipython-input-7-1f11c89f6778>\u001b[0m in \u001b[0;36m<module>\u001b[0;34m\u001b[0m\n\u001b[1;32m      1\u001b[0m \u001b[0;31m# Inspections Data 2011 - 2013\u001b[0m\u001b[0;34m\u001b[0m\u001b[0;34m\u001b[0m\u001b[0;34m\u001b[0m\u001b[0m\n\u001b[1;32m      2\u001b[0m chicago_inspections_2011_to_2013 = pd.read_csv(\"data/Chicago Inspections 2011-2013.csv\", \n\u001b[0;32m----> 3\u001b[0;31m                                               low_memory=False)\n\u001b[0m\u001b[1;32m      4\u001b[0m \u001b[0;34m\u001b[0m\u001b[0m\n\u001b[1;32m      5\u001b[0m \u001b[0;31m# Inspections Data 2014\u001b[0m\u001b[0;34m\u001b[0m\u001b[0;34m\u001b[0m\u001b[0;34m\u001b[0m\u001b[0m\n",
            "\u001b[0;32m/usr/local/lib/python3.7/dist-packages/pandas/util/_decorators.py\u001b[0m in \u001b[0;36mwrapper\u001b[0;34m(*args, **kwargs)\u001b[0m\n\u001b[1;32m    309\u001b[0m                     \u001b[0mstacklevel\u001b[0m\u001b[0;34m=\u001b[0m\u001b[0mstacklevel\u001b[0m\u001b[0;34m,\u001b[0m\u001b[0;34m\u001b[0m\u001b[0;34m\u001b[0m\u001b[0m\n\u001b[1;32m    310\u001b[0m                 )\n\u001b[0;32m--> 311\u001b[0;31m             \u001b[0;32mreturn\u001b[0m \u001b[0mfunc\u001b[0m\u001b[0;34m(\u001b[0m\u001b[0;34m*\u001b[0m\u001b[0margs\u001b[0m\u001b[0;34m,\u001b[0m \u001b[0;34m**\u001b[0m\u001b[0mkwargs\u001b[0m\u001b[0;34m)\u001b[0m\u001b[0;34m\u001b[0m\u001b[0;34m\u001b[0m\u001b[0m\n\u001b[0m\u001b[1;32m    312\u001b[0m \u001b[0;34m\u001b[0m\u001b[0m\n\u001b[1;32m    313\u001b[0m         \u001b[0;32mreturn\u001b[0m \u001b[0mwrapper\u001b[0m\u001b[0;34m\u001b[0m\u001b[0;34m\u001b[0m\u001b[0m\n",
            "\u001b[0;32m/usr/local/lib/python3.7/dist-packages/pandas/io/parsers/readers.py\u001b[0m in \u001b[0;36mread_csv\u001b[0;34m(filepath_or_buffer, sep, delimiter, header, names, index_col, usecols, squeeze, prefix, mangle_dupe_cols, dtype, engine, converters, true_values, false_values, skipinitialspace, skiprows, skipfooter, nrows, na_values, keep_default_na, na_filter, verbose, skip_blank_lines, parse_dates, infer_datetime_format, keep_date_col, date_parser, dayfirst, cache_dates, iterator, chunksize, compression, thousands, decimal, lineterminator, quotechar, quoting, doublequote, escapechar, comment, encoding, encoding_errors, dialect, error_bad_lines, warn_bad_lines, on_bad_lines, delim_whitespace, low_memory, memory_map, float_precision, storage_options)\u001b[0m\n\u001b[1;32m    584\u001b[0m     \u001b[0mkwds\u001b[0m\u001b[0;34m.\u001b[0m\u001b[0mupdate\u001b[0m\u001b[0;34m(\u001b[0m\u001b[0mkwds_defaults\u001b[0m\u001b[0;34m)\u001b[0m\u001b[0;34m\u001b[0m\u001b[0;34m\u001b[0m\u001b[0m\n\u001b[1;32m    585\u001b[0m \u001b[0;34m\u001b[0m\u001b[0m\n\u001b[0;32m--> 586\u001b[0;31m     \u001b[0;32mreturn\u001b[0m \u001b[0m_read\u001b[0m\u001b[0;34m(\u001b[0m\u001b[0mfilepath_or_buffer\u001b[0m\u001b[0;34m,\u001b[0m \u001b[0mkwds\u001b[0m\u001b[0;34m)\u001b[0m\u001b[0;34m\u001b[0m\u001b[0;34m\u001b[0m\u001b[0m\n\u001b[0m\u001b[1;32m    587\u001b[0m \u001b[0;34m\u001b[0m\u001b[0m\n\u001b[1;32m    588\u001b[0m \u001b[0;34m\u001b[0m\u001b[0m\n",
            "\u001b[0;32m/usr/local/lib/python3.7/dist-packages/pandas/io/parsers/readers.py\u001b[0m in \u001b[0;36m_read\u001b[0;34m(filepath_or_buffer, kwds)\u001b[0m\n\u001b[1;32m    480\u001b[0m \u001b[0;34m\u001b[0m\u001b[0m\n\u001b[1;32m    481\u001b[0m     \u001b[0;31m# Create the parser.\u001b[0m\u001b[0;34m\u001b[0m\u001b[0;34m\u001b[0m\u001b[0;34m\u001b[0m\u001b[0m\n\u001b[0;32m--> 482\u001b[0;31m     \u001b[0mparser\u001b[0m \u001b[0;34m=\u001b[0m \u001b[0mTextFileReader\u001b[0m\u001b[0;34m(\u001b[0m\u001b[0mfilepath_or_buffer\u001b[0m\u001b[0;34m,\u001b[0m \u001b[0;34m**\u001b[0m\u001b[0mkwds\u001b[0m\u001b[0;34m)\u001b[0m\u001b[0;34m\u001b[0m\u001b[0;34m\u001b[0m\u001b[0m\n\u001b[0m\u001b[1;32m    483\u001b[0m \u001b[0;34m\u001b[0m\u001b[0m\n\u001b[1;32m    484\u001b[0m     \u001b[0;32mif\u001b[0m \u001b[0mchunksize\u001b[0m \u001b[0;32mor\u001b[0m \u001b[0miterator\u001b[0m\u001b[0;34m:\u001b[0m\u001b[0;34m\u001b[0m\u001b[0;34m\u001b[0m\u001b[0m\n",
            "\u001b[0;32m/usr/local/lib/python3.7/dist-packages/pandas/io/parsers/readers.py\u001b[0m in \u001b[0;36m__init__\u001b[0;34m(self, f, engine, **kwds)\u001b[0m\n\u001b[1;32m    809\u001b[0m             \u001b[0mself\u001b[0m\u001b[0;34m.\u001b[0m\u001b[0moptions\u001b[0m\u001b[0;34m[\u001b[0m\u001b[0;34m\"has_index_names\"\u001b[0m\u001b[0;34m]\u001b[0m \u001b[0;34m=\u001b[0m \u001b[0mkwds\u001b[0m\u001b[0;34m[\u001b[0m\u001b[0;34m\"has_index_names\"\u001b[0m\u001b[0;34m]\u001b[0m\u001b[0;34m\u001b[0m\u001b[0;34m\u001b[0m\u001b[0m\n\u001b[1;32m    810\u001b[0m \u001b[0;34m\u001b[0m\u001b[0m\n\u001b[0;32m--> 811\u001b[0;31m         \u001b[0mself\u001b[0m\u001b[0;34m.\u001b[0m\u001b[0m_engine\u001b[0m \u001b[0;34m=\u001b[0m \u001b[0mself\u001b[0m\u001b[0;34m.\u001b[0m\u001b[0m_make_engine\u001b[0m\u001b[0;34m(\u001b[0m\u001b[0mself\u001b[0m\u001b[0;34m.\u001b[0m\u001b[0mengine\u001b[0m\u001b[0;34m)\u001b[0m\u001b[0;34m\u001b[0m\u001b[0;34m\u001b[0m\u001b[0m\n\u001b[0m\u001b[1;32m    812\u001b[0m \u001b[0;34m\u001b[0m\u001b[0m\n\u001b[1;32m    813\u001b[0m     \u001b[0;32mdef\u001b[0m \u001b[0mclose\u001b[0m\u001b[0;34m(\u001b[0m\u001b[0mself\u001b[0m\u001b[0;34m)\u001b[0m\u001b[0;34m:\u001b[0m\u001b[0;34m\u001b[0m\u001b[0;34m\u001b[0m\u001b[0m\n",
            "\u001b[0;32m/usr/local/lib/python3.7/dist-packages/pandas/io/parsers/readers.py\u001b[0m in \u001b[0;36m_make_engine\u001b[0;34m(self, engine)\u001b[0m\n\u001b[1;32m   1038\u001b[0m             )\n\u001b[1;32m   1039\u001b[0m         \u001b[0;31m# error: Too many arguments for \"ParserBase\"\u001b[0m\u001b[0;34m\u001b[0m\u001b[0;34m\u001b[0m\u001b[0;34m\u001b[0m\u001b[0m\n\u001b[0;32m-> 1040\u001b[0;31m         \u001b[0;32mreturn\u001b[0m \u001b[0mmapping\u001b[0m\u001b[0;34m[\u001b[0m\u001b[0mengine\u001b[0m\u001b[0;34m]\u001b[0m\u001b[0;34m(\u001b[0m\u001b[0mself\u001b[0m\u001b[0;34m.\u001b[0m\u001b[0mf\u001b[0m\u001b[0;34m,\u001b[0m \u001b[0;34m**\u001b[0m\u001b[0mself\u001b[0m\u001b[0;34m.\u001b[0m\u001b[0moptions\u001b[0m\u001b[0;34m)\u001b[0m  \u001b[0;31m# type: ignore[call-arg]\u001b[0m\u001b[0;34m\u001b[0m\u001b[0;34m\u001b[0m\u001b[0m\n\u001b[0m\u001b[1;32m   1041\u001b[0m \u001b[0;34m\u001b[0m\u001b[0m\n\u001b[1;32m   1042\u001b[0m     \u001b[0;32mdef\u001b[0m \u001b[0m_failover_to_python\u001b[0m\u001b[0;34m(\u001b[0m\u001b[0mself\u001b[0m\u001b[0;34m)\u001b[0m\u001b[0;34m:\u001b[0m\u001b[0;34m\u001b[0m\u001b[0;34m\u001b[0m\u001b[0m\n",
            "\u001b[0;32m/usr/local/lib/python3.7/dist-packages/pandas/io/parsers/c_parser_wrapper.py\u001b[0m in \u001b[0;36m__init__\u001b[0;34m(self, src, **kwds)\u001b[0m\n\u001b[1;32m     49\u001b[0m \u001b[0;34m\u001b[0m\u001b[0m\n\u001b[1;32m     50\u001b[0m         \u001b[0;31m# open handles\u001b[0m\u001b[0;34m\u001b[0m\u001b[0;34m\u001b[0m\u001b[0;34m\u001b[0m\u001b[0m\n\u001b[0;32m---> 51\u001b[0;31m         \u001b[0mself\u001b[0m\u001b[0;34m.\u001b[0m\u001b[0m_open_handles\u001b[0m\u001b[0;34m(\u001b[0m\u001b[0msrc\u001b[0m\u001b[0;34m,\u001b[0m \u001b[0mkwds\u001b[0m\u001b[0;34m)\u001b[0m\u001b[0;34m\u001b[0m\u001b[0;34m\u001b[0m\u001b[0m\n\u001b[0m\u001b[1;32m     52\u001b[0m         \u001b[0;32massert\u001b[0m \u001b[0mself\u001b[0m\u001b[0;34m.\u001b[0m\u001b[0mhandles\u001b[0m \u001b[0;32mis\u001b[0m \u001b[0;32mnot\u001b[0m \u001b[0;32mNone\u001b[0m\u001b[0;34m\u001b[0m\u001b[0;34m\u001b[0m\u001b[0m\n\u001b[1;32m     53\u001b[0m \u001b[0;34m\u001b[0m\u001b[0m\n",
            "\u001b[0;32m/usr/local/lib/python3.7/dist-packages/pandas/io/parsers/base_parser.py\u001b[0m in \u001b[0;36m_open_handles\u001b[0;34m(self, src, kwds)\u001b[0m\n\u001b[1;32m    227\u001b[0m             \u001b[0mmemory_map\u001b[0m\u001b[0;34m=\u001b[0m\u001b[0mkwds\u001b[0m\u001b[0;34m.\u001b[0m\u001b[0mget\u001b[0m\u001b[0;34m(\u001b[0m\u001b[0;34m\"memory_map\"\u001b[0m\u001b[0;34m,\u001b[0m \u001b[0;32mFalse\u001b[0m\u001b[0;34m)\u001b[0m\u001b[0;34m,\u001b[0m\u001b[0;34m\u001b[0m\u001b[0;34m\u001b[0m\u001b[0m\n\u001b[1;32m    228\u001b[0m             \u001b[0mstorage_options\u001b[0m\u001b[0;34m=\u001b[0m\u001b[0mkwds\u001b[0m\u001b[0;34m.\u001b[0m\u001b[0mget\u001b[0m\u001b[0;34m(\u001b[0m\u001b[0;34m\"storage_options\"\u001b[0m\u001b[0;34m,\u001b[0m \u001b[0;32mNone\u001b[0m\u001b[0;34m)\u001b[0m\u001b[0;34m,\u001b[0m\u001b[0;34m\u001b[0m\u001b[0;34m\u001b[0m\u001b[0m\n\u001b[0;32m--> 229\u001b[0;31m             \u001b[0merrors\u001b[0m\u001b[0;34m=\u001b[0m\u001b[0mkwds\u001b[0m\u001b[0;34m.\u001b[0m\u001b[0mget\u001b[0m\u001b[0;34m(\u001b[0m\u001b[0;34m\"encoding_errors\"\u001b[0m\u001b[0;34m,\u001b[0m \u001b[0;34m\"strict\"\u001b[0m\u001b[0;34m)\u001b[0m\u001b[0;34m,\u001b[0m\u001b[0;34m\u001b[0m\u001b[0;34m\u001b[0m\u001b[0m\n\u001b[0m\u001b[1;32m    230\u001b[0m         )\n\u001b[1;32m    231\u001b[0m \u001b[0;34m\u001b[0m\u001b[0m\n",
            "\u001b[0;32m/usr/local/lib/python3.7/dist-packages/pandas/io/common.py\u001b[0m in \u001b[0;36mget_handle\u001b[0;34m(path_or_buf, mode, encoding, compression, memory_map, is_text, errors, storage_options)\u001b[0m\n\u001b[1;32m    705\u001b[0m                 \u001b[0mencoding\u001b[0m\u001b[0;34m=\u001b[0m\u001b[0mioargs\u001b[0m\u001b[0;34m.\u001b[0m\u001b[0mencoding\u001b[0m\u001b[0;34m,\u001b[0m\u001b[0;34m\u001b[0m\u001b[0;34m\u001b[0m\u001b[0m\n\u001b[1;32m    706\u001b[0m                 \u001b[0merrors\u001b[0m\u001b[0;34m=\u001b[0m\u001b[0merrors\u001b[0m\u001b[0;34m,\u001b[0m\u001b[0;34m\u001b[0m\u001b[0;34m\u001b[0m\u001b[0m\n\u001b[0;32m--> 707\u001b[0;31m                 \u001b[0mnewline\u001b[0m\u001b[0;34m=\u001b[0m\u001b[0;34m\"\"\u001b[0m\u001b[0;34m,\u001b[0m\u001b[0;34m\u001b[0m\u001b[0;34m\u001b[0m\u001b[0m\n\u001b[0m\u001b[1;32m    708\u001b[0m             )\n\u001b[1;32m    709\u001b[0m         \u001b[0;32melse\u001b[0m\u001b[0;34m:\u001b[0m\u001b[0;34m\u001b[0m\u001b[0;34m\u001b[0m\u001b[0m\n",
            "\u001b[0;31mFileNotFoundError\u001b[0m: [Errno 2] No such file or directory: 'data/Chicago Inspections 2011-2013.csv'"
          ]
        }
      ],
      "source": [
        "# Inspections Data 2011 - 2013\n",
        "chicago_inspections_2011_to_2013 = pd.read_csv(\"data/Chicago Inspections 2011-2013.csv\", \n",
        "                                              low_memory=False)\n",
        "\n",
        "# Inspections Data 2014\n",
        "chicago_inspections_2014 = pd.read_csv(\"data/Chicago Inspections 2014.csv\", \n",
        "                                      low_memory=False)"
      ]
    },
    {
      "cell_type": "code",
      "execution_count": null,
      "metadata": {
        "colab": {
          "base_uri": "https://localhost:8080/",
          "height": 444
        },
        "id": "a5AG1kznOQpJ",
        "outputId": "700527af-665c-412a-ccb5-010a4b7815e1"
      },
      "outputs": [
        {
          "output_type": "execute_result",
          "data": {
            "text/plain": [
              "   Inspection_ID Inspection_Date                      DBA_Name  \\\n",
              "0         269961      2013-01-31                    SEVEN STAR   \n",
              "1         507211      2011-10-18                  PANERA BREAD   \n",
              "2         507212      2011-10-18      LITTLE QUIAPO RESTAURANT   \n",
              "3         507216      2011-10-19  SERGIO'S TAQUERIA PIZZA INC.   \n",
              "4         507219      2011-10-20         TARGET STORE # T-2079   \n",
              "\n",
              "                   AKA_Name  License  Facility_Type             Risk  \\\n",
              "0                SEVEN STAR    30790  Grocery Store     Risk 3 (Low)   \n",
              "1              PANERA BREAD  1475890     Restaurant    Risk 1 (High)   \n",
              "2  LITTLE QUIAPO RESTAURANT  1740130     Restaurant    Risk 1 (High)   \n",
              "3   SERGIO'S TAQUERIA PIZZA  1447363     Restaurant    Risk 1 (High)   \n",
              "4                    TARGET  1679459     Restaurant  Risk 2 (Medium)   \n",
              "\n",
              "                 Address     City State      Zip Inspection_Type Results  \\\n",
              "0       3352 N BROADWAY   CHICAGO    IL  60657.0         Canvass    Pass   \n",
              "1    6059 N LINCOLN AVE   CHICAGO    IL  60659.0         Canvass    Pass   \n",
              "2   6259 N MCCORMICK RD   CHICAGO    IL  60659.0         Canvass    Fail   \n",
              "3  3253 W BRYN MAWR AVE   CHICAGO    IL  60659.0         Canvass    Pass   \n",
              "4   2112 W PETERSON AVE   CHICAGO    IL  60659.0         Canvass    Fail   \n",
              "\n",
              "    Latitude  Longitude                                  Location  \\\n",
              "0  41.943359 -87.644999  (41.943359344775146, -87.64499875300952)   \n",
              "1  41.991919 -87.709631   (41.99191947239194, -87.70963133440333)   \n",
              "2  41.995632 -87.712707   (41.99563177556418, -87.71270678169132)   \n",
              "3  41.982933 -87.710982  (41.982933189164974, -87.71098225381141)   \n",
              "4  41.990729 -87.682979   (41.99072921796059, -87.68297945359863)   \n",
              "\n",
              "  Facility_Type_Clean  criticalCount  seriousCount  minorCount  pass_flag  \\\n",
              "0               Other              0             0           2          1   \n",
              "1          Restaurant              0             0           3          1   \n",
              "2          Restaurant              0             2           6          0   \n",
              "3          Restaurant              0             0           6          1   \n",
              "4          Restaurant              0             2           6          0   \n",
              "\n",
              "   fail_flag  pastFail  pastCritical  pastSerious  pastMinor  timeSinceLast  \\\n",
              "0          0         0             0            0          0            2.0   \n",
              "1          0         0             0            0          0            2.0   \n",
              "2          1         0             0            0          0            2.0   \n",
              "3          0         0             0            0          0            2.0   \n",
              "4          1         0             0            0          0            2.0   \n",
              "\n",
              "   firstRecord                ID  LICENSE_ID  ACCOUNT_NUMBER  \\\n",
              "0            1    30790-20110416   2081412.0         63759.0   \n",
              "1            1  1475890-20110416   2081695.0        207283.0   \n",
              "2            1  1740130-20110216   2070145.0          3107.0   \n",
              "3            1  1447363-20110216   2071895.0        270993.0   \n",
              "4            1  1679459-20100216   2009972.0         15538.0   \n",
              "\n",
              "                     LEGAL_NAME        DOING_BUSINESS_AS_NAME  \\\n",
              "0            VIRGINIA DELA ROSA                    SEVEN STAR   \n",
              "1                   PANERA, LLC                  PANERA BREAD   \n",
              "2                ENELITA GARCIA      LITTLE QUIAPO RESTAURANT   \n",
              "3  SERGIO'S TAZUERIA PIZZA INC.  SERGIO'S TAQUERIA PIZZA INC.   \n",
              "4            TARGET CORPORATION         TARGET STORE # T-2079   \n",
              "\n",
              "                 ADDRESS     CITY STATE  ZIP_CODE  WARD  PRECINCT  \\\n",
              "0    3352 N BROADWAY   1  CHICAGO    IL   60657.0  44.0      33.0   \n",
              "1  6059 N LINCOLN AVE  C  CHICAGO    IL   60659.0  50.0      23.0   \n",
              "2    6259 N MCCORMICK RD  CHICAGO    IL   60659.0  50.0      25.0   \n",
              "3   3253 W BRYN MAWR AVE  CHICAGO    IL   60659.0  39.0      48.0   \n",
              "4    2112 W PETERSON AVE  CHICAGO    IL   60659.0  40.0      18.0   \n",
              "\n",
              "  WARD_PRECINCT  POLICE_DISTRICT  LICENSE_CODE        LICENSE_DESCRIPTION  \\\n",
              "0         44-33             19.0        1006.0  Retail Food Establishment   \n",
              "1         50-23             24.0        1006.0  Retail Food Establishment   \n",
              "2         50-25             17.0        1006.0  Retail Food Establishment   \n",
              "3         39-48             17.0        1006.0  Retail Food Establishment   \n",
              "4         40-18             24.0        1006.0  Retail Food Establishment   \n",
              "\n",
              "  BUSINESS_ACTIVITY_ID                 BUSINESS_ACTIVITY  LICENSE_NUMBER  \\\n",
              "0                  775  Retail Sales of Perishable Foods         30790.0   \n",
              "1                  775  Retail Sales of Perishable Foods       1475890.0   \n",
              "2                  775  Retail Sales of Perishable Foods       1740130.0   \n",
              "3                  775  Retail Sales of Perishable Foods       1447363.0   \n",
              "4                  775  Retail Sales of Perishable Foods       1679459.0   \n",
              "\n",
              "  APPLICATION_TYPE LICENSE_TERM_START_DATE LICENSE_TERM_EXPIRATION_DATE  \\\n",
              "0            RENEW              2011-04-16                   2013-04-15   \n",
              "1            RENEW              2011-04-16                   2013-04-15   \n",
              "2            RENEW              2011-02-16                   2013-02-15   \n",
              "3            RENEW              2011-02-16                   2013-02-15   \n",
              "4            RENEW              2010-02-16                   2012-02-15   \n",
              "\n",
              "  LICENSE_STATUS   LATITUDE  LONGITUDE     minDate     maxDate  \\\n",
              "0            AAI  41.943359 -87.644999  2002-02-16  2015-04-15   \n",
              "1            AAI  41.991919 -87.709631  2004-05-05  2019-04-15   \n",
              "2            AAI  41.995632 -87.712707  2007-03-22  2017-02-15   \n",
              "3            AAI  41.982933 -87.710982  2003-12-31  2019-02-15   \n",
              "4            AAI  41.990729 -87.682979  2006-07-07  2018-02-15   \n",
              "\n",
              "   ageAtInspection  consumption_on_premises_incidental_activity  tobacco  \\\n",
              "0        10.964384                                            0        1   \n",
              "1         7.457534                                            0        0   \n",
              "2         4.578082                                            0        0   \n",
              "3         7.805479                                            0        0   \n",
              "4         5.290411                                            0        0   \n",
              "\n",
              "   package_goods  outdoor_patio  public_place_of_amusement  \\\n",
              "0              0              0                          0   \n",
              "1              0              0                          0   \n",
              "2              0              0                          0   \n",
              "3              0              0                          0   \n",
              "4              1              0                          0   \n",
              "\n",
              "   limited_business_license  childrens_services_facility_license  tavern  \\\n",
              "0                         1                                    0       0   \n",
              "1                         0                                    0       0   \n",
              "2                         0                                    0       0   \n",
              "3                         0                                    0       0   \n",
              "4                         1                                    0       0   \n",
              "\n",
              "   regulated_business_license  filling_station  caterers_liquor_license  \\\n",
              "0                           0                0                        0   \n",
              "1                           0                0                        0   \n",
              "2                           0                0                        0   \n",
              "3                           0                0                        0   \n",
              "4                           0                0                        0   \n",
              "\n",
              "   mobile_food_license  precipIntensity  temperatureMax  windSpeed  humidity  \\\n",
              "0                    0         0.014587       53.496667  13.340000  0.900000   \n",
              "1                    0         0.001907       59.046667  13.016667  0.550000   \n",
              "2                    0         0.001907       59.046667  13.016667  0.550000   \n",
              "3                    0         0.002737       56.153333  10.863333  0.616667   \n",
              "4                    0         0.009987       52.730000  16.266667  0.690000   \n",
              "\n",
              "   heat_burglary  heat_garbage  heat_sanitation  criticalFound  \n",
              "0      26.992376     12.768572        37.748787              0  \n",
              "1      13.976557     12.895485        15.412267              0  \n",
              "2      12.611239      8.004220         8.320330              0  \n",
              "3      35.906383     26.238645        38.186618              0  \n",
              "4       9.530785      3.401567         2.126788              0  "
            ],
            "text/html": [
              "\n",
              "  <div id=\"df-e8a6526f-83e5-40b4-8a21-47206e2e1a48\">\n",
              "    <div class=\"colab-df-container\">\n",
              "      <div>\n",
              "<style scoped>\n",
              "    .dataframe tbody tr th:only-of-type {\n",
              "        vertical-align: middle;\n",
              "    }\n",
              "\n",
              "    .dataframe tbody tr th {\n",
              "        vertical-align: top;\n",
              "    }\n",
              "\n",
              "    .dataframe thead th {\n",
              "        text-align: right;\n",
              "    }\n",
              "</style>\n",
              "<table border=\"1\" class=\"dataframe\">\n",
              "  <thead>\n",
              "    <tr style=\"text-align: right;\">\n",
              "      <th></th>\n",
              "      <th>Inspection_ID</th>\n",
              "      <th>Inspection_Date</th>\n",
              "      <th>DBA_Name</th>\n",
              "      <th>AKA_Name</th>\n",
              "      <th>License</th>\n",
              "      <th>Facility_Type</th>\n",
              "      <th>Risk</th>\n",
              "      <th>Address</th>\n",
              "      <th>City</th>\n",
              "      <th>State</th>\n",
              "      <th>Zip</th>\n",
              "      <th>Inspection_Type</th>\n",
              "      <th>Results</th>\n",
              "      <th>Latitude</th>\n",
              "      <th>Longitude</th>\n",
              "      <th>Location</th>\n",
              "      <th>Facility_Type_Clean</th>\n",
              "      <th>criticalCount</th>\n",
              "      <th>seriousCount</th>\n",
              "      <th>minorCount</th>\n",
              "      <th>pass_flag</th>\n",
              "      <th>fail_flag</th>\n",
              "      <th>pastFail</th>\n",
              "      <th>pastCritical</th>\n",
              "      <th>pastSerious</th>\n",
              "      <th>pastMinor</th>\n",
              "      <th>timeSinceLast</th>\n",
              "      <th>firstRecord</th>\n",
              "      <th>ID</th>\n",
              "      <th>LICENSE_ID</th>\n",
              "      <th>ACCOUNT_NUMBER</th>\n",
              "      <th>LEGAL_NAME</th>\n",
              "      <th>DOING_BUSINESS_AS_NAME</th>\n",
              "      <th>ADDRESS</th>\n",
              "      <th>CITY</th>\n",
              "      <th>STATE</th>\n",
              "      <th>ZIP_CODE</th>\n",
              "      <th>WARD</th>\n",
              "      <th>PRECINCT</th>\n",
              "      <th>WARD_PRECINCT</th>\n",
              "      <th>POLICE_DISTRICT</th>\n",
              "      <th>LICENSE_CODE</th>\n",
              "      <th>LICENSE_DESCRIPTION</th>\n",
              "      <th>BUSINESS_ACTIVITY_ID</th>\n",
              "      <th>BUSINESS_ACTIVITY</th>\n",
              "      <th>LICENSE_NUMBER</th>\n",
              "      <th>APPLICATION_TYPE</th>\n",
              "      <th>LICENSE_TERM_START_DATE</th>\n",
              "      <th>LICENSE_TERM_EXPIRATION_DATE</th>\n",
              "      <th>LICENSE_STATUS</th>\n",
              "      <th>LATITUDE</th>\n",
              "      <th>LONGITUDE</th>\n",
              "      <th>minDate</th>\n",
              "      <th>maxDate</th>\n",
              "      <th>ageAtInspection</th>\n",
              "      <th>consumption_on_premises_incidental_activity</th>\n",
              "      <th>tobacco</th>\n",
              "      <th>package_goods</th>\n",
              "      <th>outdoor_patio</th>\n",
              "      <th>public_place_of_amusement</th>\n",
              "      <th>limited_business_license</th>\n",
              "      <th>childrens_services_facility_license</th>\n",
              "      <th>tavern</th>\n",
              "      <th>regulated_business_license</th>\n",
              "      <th>filling_station</th>\n",
              "      <th>caterers_liquor_license</th>\n",
              "      <th>mobile_food_license</th>\n",
              "      <th>precipIntensity</th>\n",
              "      <th>temperatureMax</th>\n",
              "      <th>windSpeed</th>\n",
              "      <th>humidity</th>\n",
              "      <th>heat_burglary</th>\n",
              "      <th>heat_garbage</th>\n",
              "      <th>heat_sanitation</th>\n",
              "      <th>criticalFound</th>\n",
              "    </tr>\n",
              "  </thead>\n",
              "  <tbody>\n",
              "    <tr>\n",
              "      <th>0</th>\n",
              "      <td>269961</td>\n",
              "      <td>2013-01-31</td>\n",
              "      <td>SEVEN STAR</td>\n",
              "      <td>SEVEN STAR</td>\n",
              "      <td>30790</td>\n",
              "      <td>Grocery Store</td>\n",
              "      <td>Risk 3 (Low)</td>\n",
              "      <td>3352 N BROADWAY</td>\n",
              "      <td>CHICAGO</td>\n",
              "      <td>IL</td>\n",
              "      <td>60657.0</td>\n",
              "      <td>Canvass</td>\n",
              "      <td>Pass</td>\n",
              "      <td>41.943359</td>\n",
              "      <td>-87.644999</td>\n",
              "      <td>(41.943359344775146, -87.64499875300952)</td>\n",
              "      <td>Other</td>\n",
              "      <td>0</td>\n",
              "      <td>0</td>\n",
              "      <td>2</td>\n",
              "      <td>1</td>\n",
              "      <td>0</td>\n",
              "      <td>0</td>\n",
              "      <td>0</td>\n",
              "      <td>0</td>\n",
              "      <td>0</td>\n",
              "      <td>2.0</td>\n",
              "      <td>1</td>\n",
              "      <td>30790-20110416</td>\n",
              "      <td>2081412.0</td>\n",
              "      <td>63759.0</td>\n",
              "      <td>VIRGINIA DELA ROSA</td>\n",
              "      <td>SEVEN STAR</td>\n",
              "      <td>3352 N BROADWAY   1</td>\n",
              "      <td>CHICAGO</td>\n",
              "      <td>IL</td>\n",
              "      <td>60657.0</td>\n",
              "      <td>44.0</td>\n",
              "      <td>33.0</td>\n",
              "      <td>44-33</td>\n",
              "      <td>19.0</td>\n",
              "      <td>1006.0</td>\n",
              "      <td>Retail Food Establishment</td>\n",
              "      <td>775</td>\n",
              "      <td>Retail Sales of Perishable Foods</td>\n",
              "      <td>30790.0</td>\n",
              "      <td>RENEW</td>\n",
              "      <td>2011-04-16</td>\n",
              "      <td>2013-04-15</td>\n",
              "      <td>AAI</td>\n",
              "      <td>41.943359</td>\n",
              "      <td>-87.644999</td>\n",
              "      <td>2002-02-16</td>\n",
              "      <td>2015-04-15</td>\n",
              "      <td>10.964384</td>\n",
              "      <td>0</td>\n",
              "      <td>1</td>\n",
              "      <td>0</td>\n",
              "      <td>0</td>\n",
              "      <td>0</td>\n",
              "      <td>1</td>\n",
              "      <td>0</td>\n",
              "      <td>0</td>\n",
              "      <td>0</td>\n",
              "      <td>0</td>\n",
              "      <td>0</td>\n",
              "      <td>0</td>\n",
              "      <td>0.014587</td>\n",
              "      <td>53.496667</td>\n",
              "      <td>13.340000</td>\n",
              "      <td>0.900000</td>\n",
              "      <td>26.992376</td>\n",
              "      <td>12.768572</td>\n",
              "      <td>37.748787</td>\n",
              "      <td>0</td>\n",
              "    </tr>\n",
              "    <tr>\n",
              "      <th>1</th>\n",
              "      <td>507211</td>\n",
              "      <td>2011-10-18</td>\n",
              "      <td>PANERA BREAD</td>\n",
              "      <td>PANERA BREAD</td>\n",
              "      <td>1475890</td>\n",
              "      <td>Restaurant</td>\n",
              "      <td>Risk 1 (High)</td>\n",
              "      <td>6059 N LINCOLN AVE</td>\n",
              "      <td>CHICAGO</td>\n",
              "      <td>IL</td>\n",
              "      <td>60659.0</td>\n",
              "      <td>Canvass</td>\n",
              "      <td>Pass</td>\n",
              "      <td>41.991919</td>\n",
              "      <td>-87.709631</td>\n",
              "      <td>(41.99191947239194, -87.70963133440333)</td>\n",
              "      <td>Restaurant</td>\n",
              "      <td>0</td>\n",
              "      <td>0</td>\n",
              "      <td>3</td>\n",
              "      <td>1</td>\n",
              "      <td>0</td>\n",
              "      <td>0</td>\n",
              "      <td>0</td>\n",
              "      <td>0</td>\n",
              "      <td>0</td>\n",
              "      <td>2.0</td>\n",
              "      <td>1</td>\n",
              "      <td>1475890-20110416</td>\n",
              "      <td>2081695.0</td>\n",
              "      <td>207283.0</td>\n",
              "      <td>PANERA, LLC</td>\n",
              "      <td>PANERA BREAD</td>\n",
              "      <td>6059 N LINCOLN AVE  C</td>\n",
              "      <td>CHICAGO</td>\n",
              "      <td>IL</td>\n",
              "      <td>60659.0</td>\n",
              "      <td>50.0</td>\n",
              "      <td>23.0</td>\n",
              "      <td>50-23</td>\n",
              "      <td>24.0</td>\n",
              "      <td>1006.0</td>\n",
              "      <td>Retail Food Establishment</td>\n",
              "      <td>775</td>\n",
              "      <td>Retail Sales of Perishable Foods</td>\n",
              "      <td>1475890.0</td>\n",
              "      <td>RENEW</td>\n",
              "      <td>2011-04-16</td>\n",
              "      <td>2013-04-15</td>\n",
              "      <td>AAI</td>\n",
              "      <td>41.991919</td>\n",
              "      <td>-87.709631</td>\n",
              "      <td>2004-05-05</td>\n",
              "      <td>2019-04-15</td>\n",
              "      <td>7.457534</td>\n",
              "      <td>0</td>\n",
              "      <td>0</td>\n",
              "      <td>0</td>\n",
              "      <td>0</td>\n",
              "      <td>0</td>\n",
              "      <td>0</td>\n",
              "      <td>0</td>\n",
              "      <td>0</td>\n",
              "      <td>0</td>\n",
              "      <td>0</td>\n",
              "      <td>0</td>\n",
              "      <td>0</td>\n",
              "      <td>0.001907</td>\n",
              "      <td>59.046667</td>\n",
              "      <td>13.016667</td>\n",
              "      <td>0.550000</td>\n",
              "      <td>13.976557</td>\n",
              "      <td>12.895485</td>\n",
              "      <td>15.412267</td>\n",
              "      <td>0</td>\n",
              "    </tr>\n",
              "    <tr>\n",
              "      <th>2</th>\n",
              "      <td>507212</td>\n",
              "      <td>2011-10-18</td>\n",
              "      <td>LITTLE QUIAPO RESTAURANT</td>\n",
              "      <td>LITTLE QUIAPO RESTAURANT</td>\n",
              "      <td>1740130</td>\n",
              "      <td>Restaurant</td>\n",
              "      <td>Risk 1 (High)</td>\n",
              "      <td>6259 N MCCORMICK RD</td>\n",
              "      <td>CHICAGO</td>\n",
              "      <td>IL</td>\n",
              "      <td>60659.0</td>\n",
              "      <td>Canvass</td>\n",
              "      <td>Fail</td>\n",
              "      <td>41.995632</td>\n",
              "      <td>-87.712707</td>\n",
              "      <td>(41.99563177556418, -87.71270678169132)</td>\n",
              "      <td>Restaurant</td>\n",
              "      <td>0</td>\n",
              "      <td>2</td>\n",
              "      <td>6</td>\n",
              "      <td>0</td>\n",
              "      <td>1</td>\n",
              "      <td>0</td>\n",
              "      <td>0</td>\n",
              "      <td>0</td>\n",
              "      <td>0</td>\n",
              "      <td>2.0</td>\n",
              "      <td>1</td>\n",
              "      <td>1740130-20110216</td>\n",
              "      <td>2070145.0</td>\n",
              "      <td>3107.0</td>\n",
              "      <td>ENELITA GARCIA</td>\n",
              "      <td>LITTLE QUIAPO RESTAURANT</td>\n",
              "      <td>6259 N MCCORMICK RD</td>\n",
              "      <td>CHICAGO</td>\n",
              "      <td>IL</td>\n",
              "      <td>60659.0</td>\n",
              "      <td>50.0</td>\n",
              "      <td>25.0</td>\n",
              "      <td>50-25</td>\n",
              "      <td>17.0</td>\n",
              "      <td>1006.0</td>\n",
              "      <td>Retail Food Establishment</td>\n",
              "      <td>775</td>\n",
              "      <td>Retail Sales of Perishable Foods</td>\n",
              "      <td>1740130.0</td>\n",
              "      <td>RENEW</td>\n",
              "      <td>2011-02-16</td>\n",
              "      <td>2013-02-15</td>\n",
              "      <td>AAI</td>\n",
              "      <td>41.995632</td>\n",
              "      <td>-87.712707</td>\n",
              "      <td>2007-03-22</td>\n",
              "      <td>2017-02-15</td>\n",
              "      <td>4.578082</td>\n",
              "      <td>0</td>\n",
              "      <td>0</td>\n",
              "      <td>0</td>\n",
              "      <td>0</td>\n",
              "      <td>0</td>\n",
              "      <td>0</td>\n",
              "      <td>0</td>\n",
              "      <td>0</td>\n",
              "      <td>0</td>\n",
              "      <td>0</td>\n",
              "      <td>0</td>\n",
              "      <td>0</td>\n",
              "      <td>0.001907</td>\n",
              "      <td>59.046667</td>\n",
              "      <td>13.016667</td>\n",
              "      <td>0.550000</td>\n",
              "      <td>12.611239</td>\n",
              "      <td>8.004220</td>\n",
              "      <td>8.320330</td>\n",
              "      <td>0</td>\n",
              "    </tr>\n",
              "    <tr>\n",
              "      <th>3</th>\n",
              "      <td>507216</td>\n",
              "      <td>2011-10-19</td>\n",
              "      <td>SERGIO'S TAQUERIA PIZZA INC.</td>\n",
              "      <td>SERGIO'S TAQUERIA PIZZA</td>\n",
              "      <td>1447363</td>\n",
              "      <td>Restaurant</td>\n",
              "      <td>Risk 1 (High)</td>\n",
              "      <td>3253 W BRYN MAWR AVE</td>\n",
              "      <td>CHICAGO</td>\n",
              "      <td>IL</td>\n",
              "      <td>60659.0</td>\n",
              "      <td>Canvass</td>\n",
              "      <td>Pass</td>\n",
              "      <td>41.982933</td>\n",
              "      <td>-87.710982</td>\n",
              "      <td>(41.982933189164974, -87.71098225381141)</td>\n",
              "      <td>Restaurant</td>\n",
              "      <td>0</td>\n",
              "      <td>0</td>\n",
              "      <td>6</td>\n",
              "      <td>1</td>\n",
              "      <td>0</td>\n",
              "      <td>0</td>\n",
              "      <td>0</td>\n",
              "      <td>0</td>\n",
              "      <td>0</td>\n",
              "      <td>2.0</td>\n",
              "      <td>1</td>\n",
              "      <td>1447363-20110216</td>\n",
              "      <td>2071895.0</td>\n",
              "      <td>270993.0</td>\n",
              "      <td>SERGIO'S TAZUERIA PIZZA INC.</td>\n",
              "      <td>SERGIO'S TAQUERIA PIZZA INC.</td>\n",
              "      <td>3253 W BRYN MAWR AVE</td>\n",
              "      <td>CHICAGO</td>\n",
              "      <td>IL</td>\n",
              "      <td>60659.0</td>\n",
              "      <td>39.0</td>\n",
              "      <td>48.0</td>\n",
              "      <td>39-48</td>\n",
              "      <td>17.0</td>\n",
              "      <td>1006.0</td>\n",
              "      <td>Retail Food Establishment</td>\n",
              "      <td>775</td>\n",
              "      <td>Retail Sales of Perishable Foods</td>\n",
              "      <td>1447363.0</td>\n",
              "      <td>RENEW</td>\n",
              "      <td>2011-02-16</td>\n",
              "      <td>2013-02-15</td>\n",
              "      <td>AAI</td>\n",
              "      <td>41.982933</td>\n",
              "      <td>-87.710982</td>\n",
              "      <td>2003-12-31</td>\n",
              "      <td>2019-02-15</td>\n",
              "      <td>7.805479</td>\n",
              "      <td>0</td>\n",
              "      <td>0</td>\n",
              "      <td>0</td>\n",
              "      <td>0</td>\n",
              "      <td>0</td>\n",
              "      <td>0</td>\n",
              "      <td>0</td>\n",
              "      <td>0</td>\n",
              "      <td>0</td>\n",
              "      <td>0</td>\n",
              "      <td>0</td>\n",
              "      <td>0</td>\n",
              "      <td>0.002737</td>\n",
              "      <td>56.153333</td>\n",
              "      <td>10.863333</td>\n",
              "      <td>0.616667</td>\n",
              "      <td>35.906383</td>\n",
              "      <td>26.238645</td>\n",
              "      <td>38.186618</td>\n",
              "      <td>0</td>\n",
              "    </tr>\n",
              "    <tr>\n",
              "      <th>4</th>\n",
              "      <td>507219</td>\n",
              "      <td>2011-10-20</td>\n",
              "      <td>TARGET STORE # T-2079</td>\n",
              "      <td>TARGET</td>\n",
              "      <td>1679459</td>\n",
              "      <td>Restaurant</td>\n",
              "      <td>Risk 2 (Medium)</td>\n",
              "      <td>2112 W PETERSON AVE</td>\n",
              "      <td>CHICAGO</td>\n",
              "      <td>IL</td>\n",
              "      <td>60659.0</td>\n",
              "      <td>Canvass</td>\n",
              "      <td>Fail</td>\n",
              "      <td>41.990729</td>\n",
              "      <td>-87.682979</td>\n",
              "      <td>(41.99072921796059, -87.68297945359863)</td>\n",
              "      <td>Restaurant</td>\n",
              "      <td>0</td>\n",
              "      <td>2</td>\n",
              "      <td>6</td>\n",
              "      <td>0</td>\n",
              "      <td>1</td>\n",
              "      <td>0</td>\n",
              "      <td>0</td>\n",
              "      <td>0</td>\n",
              "      <td>0</td>\n",
              "      <td>2.0</td>\n",
              "      <td>1</td>\n",
              "      <td>1679459-20100216</td>\n",
              "      <td>2009972.0</td>\n",
              "      <td>15538.0</td>\n",
              "      <td>TARGET CORPORATION</td>\n",
              "      <td>TARGET STORE # T-2079</td>\n",
              "      <td>2112 W PETERSON AVE</td>\n",
              "      <td>CHICAGO</td>\n",
              "      <td>IL</td>\n",
              "      <td>60659.0</td>\n",
              "      <td>40.0</td>\n",
              "      <td>18.0</td>\n",
              "      <td>40-18</td>\n",
              "      <td>24.0</td>\n",
              "      <td>1006.0</td>\n",
              "      <td>Retail Food Establishment</td>\n",
              "      <td>775</td>\n",
              "      <td>Retail Sales of Perishable Foods</td>\n",
              "      <td>1679459.0</td>\n",
              "      <td>RENEW</td>\n",
              "      <td>2010-02-16</td>\n",
              "      <td>2012-02-15</td>\n",
              "      <td>AAI</td>\n",
              "      <td>41.990729</td>\n",
              "      <td>-87.682979</td>\n",
              "      <td>2006-07-07</td>\n",
              "      <td>2018-02-15</td>\n",
              "      <td>5.290411</td>\n",
              "      <td>0</td>\n",
              "      <td>0</td>\n",
              "      <td>1</td>\n",
              "      <td>0</td>\n",
              "      <td>0</td>\n",
              "      <td>1</td>\n",
              "      <td>0</td>\n",
              "      <td>0</td>\n",
              "      <td>0</td>\n",
              "      <td>0</td>\n",
              "      <td>0</td>\n",
              "      <td>0</td>\n",
              "      <td>0.009987</td>\n",
              "      <td>52.730000</td>\n",
              "      <td>16.266667</td>\n",
              "      <td>0.690000</td>\n",
              "      <td>9.530785</td>\n",
              "      <td>3.401567</td>\n",
              "      <td>2.126788</td>\n",
              "      <td>0</td>\n",
              "    </tr>\n",
              "  </tbody>\n",
              "</table>\n",
              "</div>\n",
              "      <button class=\"colab-df-convert\" onclick=\"convertToInteractive('df-e8a6526f-83e5-40b4-8a21-47206e2e1a48')\"\n",
              "              title=\"Convert this dataframe to an interactive table.\"\n",
              "              style=\"display:none;\">\n",
              "        \n",
              "  <svg xmlns=\"http://www.w3.org/2000/svg\" height=\"24px\"viewBox=\"0 0 24 24\"\n",
              "       width=\"24px\">\n",
              "    <path d=\"M0 0h24v24H0V0z\" fill=\"none\"/>\n",
              "    <path d=\"M18.56 5.44l.94 2.06.94-2.06 2.06-.94-2.06-.94-.94-2.06-.94 2.06-2.06.94zm-11 1L8.5 8.5l.94-2.06 2.06-.94-2.06-.94L8.5 2.5l-.94 2.06-2.06.94zm10 10l.94 2.06.94-2.06 2.06-.94-2.06-.94-.94-2.06-.94 2.06-2.06.94z\"/><path d=\"M17.41 7.96l-1.37-1.37c-.4-.4-.92-.59-1.43-.59-.52 0-1.04.2-1.43.59L10.3 9.45l-7.72 7.72c-.78.78-.78 2.05 0 2.83L4 21.41c.39.39.9.59 1.41.59.51 0 1.02-.2 1.41-.59l7.78-7.78 2.81-2.81c.8-.78.8-2.07 0-2.86zM5.41 20L4 18.59l7.72-7.72 1.47 1.35L5.41 20z\"/>\n",
              "  </svg>\n",
              "      </button>\n",
              "      \n",
              "  <style>\n",
              "    .colab-df-container {\n",
              "      display:flex;\n",
              "      flex-wrap:wrap;\n",
              "      gap: 12px;\n",
              "    }\n",
              "\n",
              "    .colab-df-convert {\n",
              "      background-color: #E8F0FE;\n",
              "      border: none;\n",
              "      border-radius: 50%;\n",
              "      cursor: pointer;\n",
              "      display: none;\n",
              "      fill: #1967D2;\n",
              "      height: 32px;\n",
              "      padding: 0 0 0 0;\n",
              "      width: 32px;\n",
              "    }\n",
              "\n",
              "    .colab-df-convert:hover {\n",
              "      background-color: #E2EBFA;\n",
              "      box-shadow: 0px 1px 2px rgba(60, 64, 67, 0.3), 0px 1px 3px 1px rgba(60, 64, 67, 0.15);\n",
              "      fill: #174EA6;\n",
              "    }\n",
              "\n",
              "    [theme=dark] .colab-df-convert {\n",
              "      background-color: #3B4455;\n",
              "      fill: #D2E3FC;\n",
              "    }\n",
              "\n",
              "    [theme=dark] .colab-df-convert:hover {\n",
              "      background-color: #434B5C;\n",
              "      box-shadow: 0px 1px 3px 1px rgba(0, 0, 0, 0.15);\n",
              "      filter: drop-shadow(0px 1px 2px rgba(0, 0, 0, 0.3));\n",
              "      fill: #FFFFFF;\n",
              "    }\n",
              "  </style>\n",
              "\n",
              "      <script>\n",
              "        const buttonEl =\n",
              "          document.querySelector('#df-e8a6526f-83e5-40b4-8a21-47206e2e1a48 button.colab-df-convert');\n",
              "        buttonEl.style.display =\n",
              "          google.colab.kernel.accessAllowed ? 'block' : 'none';\n",
              "\n",
              "        async function convertToInteractive(key) {\n",
              "          const element = document.querySelector('#df-e8a6526f-83e5-40b4-8a21-47206e2e1a48');\n",
              "          const dataTable =\n",
              "            await google.colab.kernel.invokeFunction('convertToInteractive',\n",
              "                                                     [key], {});\n",
              "          if (!dataTable) return;\n",
              "\n",
              "          const docLinkHtml = 'Like what you see? Visit the ' +\n",
              "            '<a target=\"_blank\" href=https://colab.research.google.com/notebooks/data_table.ipynb>data table notebook</a>'\n",
              "            + ' to learn more about interactive tables.';\n",
              "          element.innerHTML = '';\n",
              "          dataTable['output_type'] = 'display_data';\n",
              "          await google.colab.output.renderOutput(dataTable, element);\n",
              "          const docLink = document.createElement('div');\n",
              "          docLink.innerHTML = docLinkHtml;\n",
              "          element.appendChild(docLink);\n",
              "        }\n",
              "      </script>\n",
              "    </div>\n",
              "  </div>\n",
              "  "
            ]
          },
          "metadata": {},
          "execution_count": 27
        }
      ],
      "source": [
        "# Look at the inspections data\n",
        "chicago_inspections_2011_to_2013.head()"
      ]
    },
    {
      "cell_type": "code",
      "execution_count": null,
      "metadata": {
        "colab": {
          "base_uri": "https://localhost:8080/"
        },
        "id": "_IFwc5L0OQpJ",
        "outputId": "45406d94-7a69-488e-ccc8-c6cd9f3ebdd4"
      },
      "outputs": [
        {
          "output_type": "execute_result",
          "data": {
            "text/plain": [
              "Index(['Inspection_ID', 'Inspection_Date', 'DBA_Name', 'AKA_Name', 'License',\n",
              "       'Facility_Type', 'Risk', 'Address', 'City', 'State', 'Zip',\n",
              "       'Inspection_Type', 'Results', 'Latitude', 'Longitude', 'Location',\n",
              "       'Facility_Type_Clean', 'criticalCount', 'seriousCount', 'minorCount',\n",
              "       'pass_flag', 'fail_flag', 'pastFail', 'pastCritical', 'pastSerious',\n",
              "       'pastMinor', 'timeSinceLast', 'firstRecord', 'ID', 'LICENSE_ID',\n",
              "       'ACCOUNT_NUMBER', 'LEGAL_NAME', 'DOING_BUSINESS_AS_NAME', 'ADDRESS',\n",
              "       'CITY', 'STATE', 'ZIP_CODE', 'WARD', 'PRECINCT', 'WARD_PRECINCT',\n",
              "       'POLICE_DISTRICT', 'LICENSE_CODE', 'LICENSE_DESCRIPTION',\n",
              "       'BUSINESS_ACTIVITY_ID', 'BUSINESS_ACTIVITY', 'LICENSE_NUMBER',\n",
              "       'APPLICATION_TYPE', 'LICENSE_TERM_START_DATE',\n",
              "       'LICENSE_TERM_EXPIRATION_DATE', 'LICENSE_STATUS', 'LATITUDE',\n",
              "       'LONGITUDE', 'minDate', 'maxDate', 'ageAtInspection',\n",
              "       'consumption_on_premises_incidental_activity', 'tobacco',\n",
              "       'package_goods', 'outdoor_patio', 'public_place_of_amusement',\n",
              "       'limited_business_license', 'childrens_services_facility_license',\n",
              "       'tavern', 'regulated_business_license', 'filling_station',\n",
              "       'caterers_liquor_license', 'mobile_food_license', 'precipIntensity',\n",
              "       'temperatureMax', 'windSpeed', 'humidity', 'heat_burglary',\n",
              "       'heat_garbage', 'heat_sanitation', 'criticalFound'],\n",
              "      dtype='object')"
            ]
          },
          "metadata": {},
          "execution_count": 28
        }
      ],
      "source": [
        "# List column names\n",
        "chicago_inspections_2011_to_2013.columns"
      ]
    },
    {
      "cell_type": "code",
      "execution_count": null,
      "metadata": {
        "id": "r72i5BTMOQpJ"
      },
      "outputs": [],
      "source": [
        "# Drop column names related to geography, identification, and pass/fail flags that perfectly predict the outcome\n",
        "chicago_inspections_2011_to_2013.drop(columns = ['AKA_Name', \n",
        "                                                 'License',\n",
        "                                                'Address',\n",
        "                                                'City',\n",
        "                                                'State',\n",
        "                                                'Zip',\n",
        "                                                'Latitude',\n",
        "                                                'Longitude',\n",
        "                                                'Location',\n",
        "                                                'ID',\n",
        "                                                'LICENSE_ID',\n",
        "                                                 'LICENSE_TERM_START_DATE',\n",
        "                                                 'LICENSE_TERM_EXPIRATION_DATE',\n",
        "                                                 'LICENSE_STATUS',\n",
        "                                                'ACCOUNT_NUMBER',\n",
        "                                                'LEGAL_NAME',\n",
        "                                                'DOING_BUSINESS_AS_NAME',\n",
        "                                                'ADDRESS',\n",
        "                                                'CITY',\n",
        "                                                'STATE',\n",
        "                                                'ZIP_CODE',\n",
        "                                                'WARD',\n",
        "                                                'PRECINCT',\n",
        "                                                'LICENSE_CODE',\n",
        "                                                'BUSINESS_ACTIVITY_ID',\n",
        "                                                'BUSINESS_ACTIVITY',\n",
        "                                                'LICENSE_NUMBER',\n",
        "                                                'LATITUDE',\n",
        "                                                'LONGITUDE',\n",
        "                                                'pass_flag',\n",
        "                                                'fail_flag'],\n",
        "                                     inplace = True)\n",
        "\n",
        "chicago_inspections_2011_to_2013.set_index(['Inspection_ID', 'DBA_Name'], inplace = True)"
      ]
    },
    {
      "cell_type": "code",
      "execution_count": null,
      "metadata": {
        "id": "N-BScKeMOQpK"
      },
      "outputs": [],
      "source": [
        "# Convert the Inspection Date to a datetime format\n",
        "chicago_inspections_2011_to_2013['Inspection_Date'] = pd.to_datetime(chicago_inspections_2011_to_2013['Inspection_Date'], infer_datetime_format=True)  "
      ]
    },
    {
      "cell_type": "markdown",
      "metadata": {
        "id": "MXS0p4oDOQpK"
      },
      "source": [
        "## Visualization"
      ]
    },
    {
      "cell_type": "markdown",
      "metadata": {
        "id": "Nhybjwt7OQpK"
      },
      "source": [
        "What do inspections look like over time?"
      ]
    },
    {
      "cell_type": "code",
      "execution_count": null,
      "metadata": {
        "id": "JVpaE9z9OQpK",
        "colab": {
          "base_uri": "https://localhost:8080/",
          "height": 240
        },
        "outputId": "5921fe83-1d02-4879-f886-cebf212f9ab8"
      },
      "outputs": [
        {
          "output_type": "error",
          "ename": "NameError",
          "evalue": "ignored",
          "traceback": [
            "\u001b[0;31m---------------------------------------------------------------------------\u001b[0m",
            "\u001b[0;31mNameError\u001b[0m                                 Traceback (most recent call last)",
            "\u001b[0;32m<ipython-input-2-9f9d7169920a>\u001b[0m in \u001b[0;36m<module>\u001b[0;34m\u001b[0m\n\u001b[1;32m      1\u001b[0m \u001b[0;31m# Visualize Inspections Over Time\u001b[0m\u001b[0;34m\u001b[0m\u001b[0;34m\u001b[0m\u001b[0;34m\u001b[0m\u001b[0m\n\u001b[0;32m----> 2\u001b[0;31m \u001b[0mchicago_inspections_2011_to_2013\u001b[0m\u001b[0;34m[\u001b[0m\u001b[0;34m'Inspection_MonthYear'\u001b[0m\u001b[0;34m]\u001b[0m \u001b[0;34m=\u001b[0m \u001b[0mchicago_inspections_2011_to_2013\u001b[0m\u001b[0;34m[\u001b[0m\u001b[0;34m'Inspection_Date'\u001b[0m\u001b[0;34m]\u001b[0m\u001b[0;34m.\u001b[0m\u001b[0mdt\u001b[0m\u001b[0;34m.\u001b[0m\u001b[0mto_period\u001b[0m\u001b[0;34m(\u001b[0m\u001b[0;34m'M'\u001b[0m\u001b[0;34m)\u001b[0m\u001b[0;34m\u001b[0m\u001b[0;34m\u001b[0m\u001b[0m\n\u001b[0m\u001b[1;32m      3\u001b[0m \u001b[0mcounts_by_day\u001b[0m \u001b[0;34m=\u001b[0m \u001b[0mchicago_inspections_2011_to_2013\u001b[0m\u001b[0;34m.\u001b[0m\u001b[0mgroupby\u001b[0m\u001b[0;34m(\u001b[0m\u001b[0;34m'Inspection_MonthYear'\u001b[0m\u001b[0;34m)\u001b[0m\u001b[0;34m.\u001b[0m\u001b[0mcount\u001b[0m\u001b[0;34m(\u001b[0m\u001b[0;34m)\u001b[0m\u001b[0;34m.\u001b[0m\u001b[0mrename\u001b[0m\u001b[0;34m(\u001b[0m\u001b[0mcolumns\u001b[0m \u001b[0;34m=\u001b[0m \u001b[0;34m{\u001b[0m\u001b[0;34m'Facility_Type'\u001b[0m\u001b[0;34m:\u001b[0m \u001b[0;34m'Count'\u001b[0m\u001b[0;34m}\u001b[0m\u001b[0;34m)\u001b[0m\u001b[0;34m[\u001b[0m\u001b[0;34m'Count'\u001b[0m\u001b[0;34m]\u001b[0m\u001b[0;34m.\u001b[0m\u001b[0mreset_index\u001b[0m\u001b[0;34m(\u001b[0m\u001b[0;34m)\u001b[0m\u001b[0;34m\u001b[0m\u001b[0;34m\u001b[0m\u001b[0m\n\u001b[1;32m      4\u001b[0m \u001b[0mcounts_by_day\u001b[0m\u001b[0;34m.\u001b[0m\u001b[0mset_index\u001b[0m\u001b[0;34m(\u001b[0m\u001b[0;34m[\u001b[0m\u001b[0;34m\"Inspection_MonthYear\"\u001b[0m\u001b[0;34m]\u001b[0m\u001b[0;34m,\u001b[0m \u001b[0minplace\u001b[0m \u001b[0;34m=\u001b[0m \u001b[0;32mTrue\u001b[0m\u001b[0;34m)\u001b[0m\u001b[0;34m\u001b[0m\u001b[0;34m\u001b[0m\u001b[0m\n\u001b[1;32m      5\u001b[0m \u001b[0mcounts_by_day\u001b[0m\u001b[0;34m.\u001b[0m\u001b[0mplot\u001b[0m\u001b[0;34m(\u001b[0m\u001b[0mtitle\u001b[0m \u001b[0;34m=\u001b[0m \u001b[0;34m\"Inspections by Month and Year\"\u001b[0m\u001b[0;34m)\u001b[0m\u001b[0;34m\u001b[0m\u001b[0;34m\u001b[0m\u001b[0m\n",
            "\u001b[0;31mNameError\u001b[0m: name 'chicago_inspections_2011_to_2013' is not defined"
          ]
        }
      ],
      "source": [
        "# Visualize Inspections Over Time\n",
        "chicago_inspections_2011_to_2013['Inspection_MonthYear'] = chicago_inspections_2011_to_2013['Inspection_Date'].dt.to_period('M')\n",
        "counts_by_day = chicago_inspections_2011_to_2013.groupby('Inspection_MonthYear').count().rename(columns = {'Facility_Type': 'Count'})['Count'].reset_index()\n",
        "counts_by_day.set_index([\"Inspection_MonthYear\"], inplace = True)\n",
        "counts_by_day.plot(title = \"Inspections by Month and Year\") "
      ]
    },
    {
      "cell_type": "markdown",
      "source": [
        "**Answer**:"
      ],
      "metadata": {
        "id": "EQJnkcBQuuhX"
      }
    },
    {
      "cell_type": "markdown",
      "metadata": {
        "id": "qaHB2cXoOQpL"
      },
      "source": [
        "What do the results look like? "
      ]
    },
    {
      "cell_type": "code",
      "execution_count": null,
      "metadata": {
        "id": "IZQNlZ3lOQpL"
      },
      "outputs": [],
      "source": [
        "# Inspection Results\n",
        "sns.catplot(data = chicago_inspections_2011_to_2013,\n",
        "           x = \"Results\",\n",
        "           kind = \"count\")\n",
        "\n",
        "plt.title(\"Inspection Results\")\n",
        "plt.show()"
      ]
    },
    {
      "cell_type": "markdown",
      "source": [
        "**Answer**:"
      ],
      "metadata": {
        "id": "BofuZjoIuyVF"
      }
    },
    {
      "cell_type": "markdown",
      "metadata": {
        "id": "xTO-X_yvOQpL"
      },
      "source": [
        "What if we separate by facility type?"
      ]
    },
    {
      "cell_type": "code",
      "execution_count": null,
      "metadata": {
        "id": "wyFSIUwxOQpL"
      },
      "outputs": [],
      "source": [
        "# Inspection Results by Facility Type (Restaurant or Not)\n",
        "sns.catplot(data = chicago_inspections_2011_to_2013,\n",
        "           x = \"Results\",\n",
        "           kind = \"count\",\n",
        "           hue = 'Facility_Type_Clean')\n",
        "\n",
        "plt.title(\"Inspection Results by Facility Type\")\n",
        "plt.show()"
      ]
    },
    {
      "cell_type": "markdown",
      "source": [
        "**Answer**:"
      ],
      "metadata": {
        "id": "ynDb-bNRu10S"
      }
    },
    {
      "cell_type": "markdown",
      "metadata": {
        "id": "33Rf7eB-OQpL"
      },
      "source": [
        "## Preprocess Data"
      ]
    },
    {
      "cell_type": "markdown",
      "source": [
        "From project instructions:\n",
        "\n",
        "The “Chicago Inspections 2011-2013.csv” dataset contains data taken from eight\n",
        "different datasets. The task of merging these datasets together has already\n",
        "been done for you. We have also provided some preliminary visualizations and\n",
        "dropped out several features. You may still wish to examine the dataset and\n",
        "drop any other features you believe will not be helpful. Also, make sure to\n",
        "examine the target variable and determine whether you wish to keep it as three\n",
        "possible categories, or if it should be recoded."
      ],
      "metadata": {
        "id": "KQZTRZs8XciB"
      }
    },
    {
      "cell_type": "code",
      "execution_count": null,
      "metadata": {
        "id": "m23KHwetOQpL"
      },
      "outputs": [],
      "source": [
        "# Drop datetime info\n",
        "chicago_inspections_2011_to_2013 = chicago_inspections_2011_to_2013.dropna().drop(['Inspection_Date',\n",
        "                                      'minDate',\n",
        "                                      'maxDate',\n",
        "                                      'Inspection_MonthYear'],\n",
        "                                      axis = 1)"
      ]
    },
    {
      "cell_type": "code",
      "execution_count": null,
      "metadata": {
        "id": "mGul1HepOQpM"
      },
      "outputs": [],
      "source": [
        "# Set target variable. \n",
        "y = chicago_inspections_2011_to_2013['Results']\n",
        "## Comment out the following code if you don't want to binarize the target variable\n",
        "y = y.replace({'Pass w/ Conditions': 'Pass'})\n",
        "lb_style = LabelBinarizer()\n",
        "y = lb_style.fit_transform(y)\n",
        "# Recode 0s and 1s so 1s are \"Fail\"\n",
        "y = np.where(y == 1, 0 ,1)\n",
        "\n",
        "# All other features in X\n",
        "X = chicago_inspections_2011_to_2013.drop(columns = ['Results'])\n",
        "X = pd.get_dummies(X)"
      ]
    },
    {
      "cell_type": "code",
      "execution_count": null,
      "metadata": {
        "id": "duTSi3qwOQpM"
      },
      "outputs": [],
      "source": [
        "X.head()"
      ]
    },
    {
      "cell_type": "markdown",
      "source": [
        "You may still wish to examine the dataset and drop any other features you believe will not be helpful. "
      ],
      "metadata": {
        "id": "it71mpyEvMt6"
      }
    },
    {
      "cell_type": "code",
      "source": [
        "#Examine dataset and decide which features to drop"
      ],
      "metadata": {
        "id": "VWqayOzTvNKB"
      },
      "execution_count": null,
      "outputs": []
    },
    {
      "cell_type": "markdown",
      "source": [
        "Also, make sure to examine the target variable and determine whether you wish to keep it as three possible categories, or if it should be recoded."
      ],
      "metadata": {
        "id": "v0pYbaWkvP3d"
      }
    },
    {
      "cell_type": "code",
      "source": [
        "#Examine target variable and determine if it should be recoded"
      ],
      "metadata": {
        "id": "7z-yQGl5vSRn"
      },
      "execution_count": null,
      "outputs": []
    },
    {
      "cell_type": "markdown",
      "metadata": {
        "id": "D6Y7xu9nOQpM"
      },
      "source": [
        "## Fit Models"
      ]
    },
    {
      "cell_type": "markdown",
      "source": [
        "**Splitting from project instructions:**\n",
        "\n",
        "* You may either split your data into train/validation sets, or use cross-validation.\n",
        "Note, if you use train/validation sets, do not create a test set (you will see why\n",
        "soon).\n",
        "\n",
        "* Choose 3 different machine learning techniques. See available ones in the\n",
        "scikit-learn documentation\n",
        "\n",
        "* Detail the basic logic and assumptions underlying each model, its\n",
        "pros/cons, and why it is a plausible choice for this problem.\n",
        "Then, train your models (again either on the train set or using cross validation). Remember to use hyperparameter tuning.\n",
        "\n",
        "\n",
        "**Fitting project instructions:**\n",
        "\n",
        "First, do the following:\n",
        "* Choose 3 different machine learning techniques. See available ones in the scikit-learn documentation\n",
        "\n",
        "* Detail the basic logic and assumptions underlying each model, its\n",
        "pros/cons, and why it is a plausible choice for this problem.\n",
        "Then, train your models (again either on the train set or using cross validation). Remember to use hyperparameter tuning."
      ],
      "metadata": {
        "id": "8_H1Z1LRVUtU"
      }
    },
    {
      "cell_type": "markdown",
      "source": [
        "**Split Data**"
      ],
      "metadata": {
        "id": "iYKUMMXdvVCt"
      }
    },
    {
      "cell_type": "code",
      "source": [
        "#split data"
      ],
      "metadata": {
        "id": "JT-VJpc1vZYj"
      },
      "execution_count": null,
      "outputs": []
    },
    {
      "cell_type": "markdown",
      "metadata": {
        "id": "XNL0xQbkOQpM"
      },
      "source": [
        "### Model 1"
      ]
    },
    {
      "cell_type": "markdown",
      "metadata": {
        "id": "z7tBTmSfOQpM"
      },
      "source": [
        "Be sure to do the following:\n",
        "\n",
        "1. Import the appropriate library from sklearn\n",
        "2. Set up a hyperparameter grid (check out our previous labs to see how to do this)\n",
        "3. Find the best hyperparameters, and then fit your model (using train/validation splits or cross-validation)"
      ]
    },
    {
      "cell_type": "markdown",
      "source": [
        "**Model 1 basic logic and underlying assumptions:**\n",
        "\n",
        "**Model 1 pros/cons:**\n",
        "\n",
        "**Why is it a plausible choice for this problem?**"
      ],
      "metadata": {
        "id": "Vz539oUWvjN_"
      }
    },
    {
      "cell_type": "code",
      "execution_count": null,
      "metadata": {
        "id": "jmn_UoTFOQpM"
      },
      "outputs": [],
      "source": [
        "#Import library"
      ]
    },
    {
      "cell_type": "code",
      "source": [
        "#Set up hyperparameter grid"
      ],
      "metadata": {
        "id": "CsyC2auKwCUo"
      },
      "execution_count": null,
      "outputs": []
    },
    {
      "cell_type": "code",
      "source": [
        "#Find best hyperparameters"
      ],
      "metadata": {
        "id": "_BMMK8cvwErp"
      },
      "execution_count": null,
      "outputs": []
    },
    {
      "cell_type": "code",
      "source": [
        "#Fit Model 1"
      ],
      "metadata": {
        "id": "8yujPvSbwHyF"
      },
      "execution_count": null,
      "outputs": []
    },
    {
      "cell_type": "markdown",
      "metadata": {
        "id": "WtA4xgqgOQpM"
      },
      "source": [
        "## Model 2"
      ]
    },
    {
      "cell_type": "markdown",
      "source": [
        "**Model 2 basic logic and underlying assumptions:**\n",
        "\n",
        "**Model 2 pros/cons:**\n",
        "\n",
        "**Why is it a plausible choice for this problem?**"
      ],
      "metadata": {
        "id": "1-uPEBlGwMoe"
      }
    },
    {
      "cell_type": "code",
      "execution_count": null,
      "metadata": {
        "id": "xa4HPgemOQpM"
      },
      "outputs": [],
      "source": []
    },
    {
      "cell_type": "code",
      "source": [],
      "metadata": {
        "id": "87xrme6MwPHV"
      },
      "execution_count": null,
      "outputs": []
    },
    {
      "cell_type": "code",
      "source": [],
      "metadata": {
        "id": "Ejm-J8_fwPAT"
      },
      "execution_count": null,
      "outputs": []
    },
    {
      "cell_type": "code",
      "source": [],
      "metadata": {
        "id": "aD9DXMeuwO3w"
      },
      "execution_count": null,
      "outputs": []
    },
    {
      "cell_type": "markdown",
      "metadata": {
        "id": "HBSt7FOdOQpN"
      },
      "source": [
        "## Model 3"
      ]
    },
    {
      "cell_type": "markdown",
      "source": [
        "**Model 3 basic logic and underlying assumptions:**\n",
        "\n",
        "**Model 3 pros/cons:**\n",
        "\n",
        "**Why is it a plausible choice for this problem?**"
      ],
      "metadata": {
        "id": "-nYNDkVTwQEB"
      }
    },
    {
      "cell_type": "code",
      "execution_count": null,
      "metadata": {
        "id": "6i6EuX_sOQpN"
      },
      "outputs": [],
      "source": []
    },
    {
      "cell_type": "markdown",
      "metadata": {
        "id": "QRPXqm7GOQpN"
      },
      "source": [
        "## Validation Metrics"
      ]
    },
    {
      "cell_type": "markdown",
      "metadata": {
        "id": "zCFKR_lJOQpN"
      },
      "source": [
        "**Hint**: Try writing a for loop to use [`cross_val_score()`](https://scikit-learn.org/stable/modules/generated/sklearn.model_selection.cross_val_score.html) to check for accuracy, precision, recall and f1 across all of your models."
      ]
    },
    {
      "cell_type": "markdown",
      "source": [
        "From project instructions:\n",
        "\n",
        "How well did your model do? Report the following:\n",
        "* Accuracy\n",
        "* Recall\n",
        "* Precision\n",
        "* F1 Score\n",
        "\n",
        "Which of these metrics would you want to prioritize when conducting predictive auditing in this context? Why?"
      ],
      "metadata": {
        "id": "_FE_XziQW5un"
      }
    },
    {
      "cell_type": "code",
      "execution_count": null,
      "metadata": {
        "id": "RErQiCMvOQpN"
      },
      "outputs": [],
      "source": []
    },
    {
      "cell_type": "markdown",
      "metadata": {
        "id": "0wkA5vwkOQpN"
      },
      "source": [
        "## Policy Simulation"
      ]
    },
    {
      "cell_type": "markdown",
      "metadata": {
        "id": "s_hvMMitOQpN"
      },
      "source": [
        "### Interpretable Machine Learning"
      ]
    },
    {
      "cell_type": "markdown",
      "source": [
        "From project instructions:\n",
        "\n",
        "Use tools like coefficient plots or feature importance plots to investigate your\n",
        "models. Which features contribute to your predictions? Are there any additional\n",
        "features you wish you could incorporate?"
      ],
      "metadata": {
        "id": "eHM6_yvfWuWm"
      }
    },
    {
      "cell_type": "markdown",
      "metadata": {
        "id": "lgwDMVKmOQpN"
      },
      "source": [
        "**Hint**: Use tools like feature importance plots and coefficient plots"
      ]
    },
    {
      "cell_type": "code",
      "execution_count": null,
      "metadata": {
        "id": "v8_GPu1SOQpN"
      },
      "outputs": [],
      "source": []
    },
    {
      "cell_type": "code",
      "execution_count": null,
      "metadata": {
        "id": "L5BGA85COQpN"
      },
      "outputs": [],
      "source": []
    },
    {
      "cell_type": "markdown",
      "metadata": {
        "id": "fsNfhRYYOQpN"
      },
      "source": [
        "## Prioritize Audits"
      ]
    },
    {
      "cell_type": "markdown",
      "metadata": {
        "id": "fkWB6om0OQpO"
      },
      "source": [
        "**Hint**: Look up the [`.predict()`](https://www.kite.com/python/docs/sklearn.linear_model.SGDRegressor.predict), [`.predict_proba()`](https://www.kite.com/python/docs/sklearn.linear_model.LogisticRegression.predict_proba), and [`.sample()`](https://pandas.pydata.org/pandas-docs/stable/reference/api/pandas.DataFrame.sample.html) methods. Then: \n",
        "1. Choose one of your models (or train a new simplified model or ensemble!) to predict outcomes and probabilities. \n",
        "2. Order your audits by their probability of detecting a \"Fail\" score\n",
        "3. Plot your distribution of pass/fail among the first 1000 observations in the dataset\n",
        "4. Simulate random audits on the full chicago_2011_to_2013.csv dataset by picking 1000 observations at random"
      ]
    },
    {
      "cell_type": "markdown",
      "source": [
        "From project instructions:\n",
        "\n",
        "Imagine that the City of Chicago only had resources to conduct 1000 food\n",
        "safety inspections. Generate a list of the 1000 riskiest establishments. Using\n",
        "your chosen metric, demonstrate how well your algorithm prioritized finding\n",
        "potential violations.\n",
        "Then, conduct a simulation where you choose 1000 establishments to randomly audit. Again using your chosen metric, how well did random audits do?\n",
        "How did random auditing compare to predictive auditing?"
      ],
      "metadata": {
        "id": "vMxPQMLIWlNp"
      }
    },
    {
      "cell_type": "code",
      "execution_count": null,
      "metadata": {
        "id": "C6Ugx4UtOQpO"
      },
      "outputs": [],
      "source": []
    },
    {
      "cell_type": "code",
      "execution_count": null,
      "metadata": {
        "id": "IPt2aJ1SOQpO"
      },
      "outputs": [],
      "source": []
    },
    {
      "cell_type": "code",
      "execution_count": null,
      "metadata": {
        "id": "ps0U0p-cOQpO"
      },
      "outputs": [],
      "source": []
    },
    {
      "cell_type": "markdown",
      "metadata": {
        "id": "TxMDEWxIOQpO"
      },
      "source": [
        "### Predict on Data with Unseen Labels"
      ]
    },
    {
      "cell_type": "markdown",
      "source": [
        "From project instructions:\n",
        "\n",
        "Use your favorite model to make predictions based on the features in “Chicago\n",
        "Inspection 2014.csv”. Note that this dataset does not include a “Results”\n",
        "column. After you make your predictions, choose a metric that you think makes\n",
        "the most sense from a policy perspective and explain your choice. Then, save\n",
        "your predictions in a file called “predictions.csv”. The instructor will check your\n",
        "predictions against the observed labels on the metric you chose and report your\n",
        "model performance back to you after you submit the assignment."
      ],
      "metadata": {
        "id": "K3QayvamWeKF"
      }
    },
    {
      "cell_type": "code",
      "execution_count": null,
      "metadata": {
        "id": "odjg6Uu1OQpO"
      },
      "outputs": [],
      "source": [
        "# Fill in the code below with the X data you used for training\n",
        "X_test = chicago_inspections_2014[chicago_inspections_2014.columns & ....columns]"
      ]
    },
    {
      "cell_type": "code",
      "execution_count": null,
      "metadata": {
        "id": "xIpv4FPSOQpO"
      },
      "outputs": [],
      "source": []
    },
    {
      "cell_type": "markdown",
      "source": [
        "# Discussion Questions"
      ],
      "metadata": {
        "id": "NM3YpiO2WFOO"
      }
    },
    {
      "cell_type": "markdown",
      "source": [
        "From project instructions:\n",
        "\n",
        "5.1 Why do we need metrics beyond accuracy when using machine learning in the social sciences and public\n",
        "policy?\n",
        "\n",
        "5.2 Imagine that establishments learned about the algorithm being used to determine who gets audited and\n",
        "they started adjusting their behavior (and changing\n",
        "certain key features about themselves that were important for the prediction) to avoid detection. How\n",
        "could policymakers address this interplay between algorithmic decisionmaking and real world behavior?"
      ],
      "metadata": {
        "id": "5QIWgGHLV6y3"
      }
    },
    {
      "cell_type": "code",
      "source": [],
      "metadata": {
        "id": "k3GUq7LKW2fa"
      },
      "execution_count": null,
      "outputs": []
    }
  ],
  "metadata": {
    "kernelspec": {
      "display_name": "Python 3",
      "language": "python",
      "name": "python3"
    },
    "language_info": {
      "codemirror_mode": {
        "name": "ipython",
        "version": 3
      },
      "file_extension": ".py",
      "mimetype": "text/x-python",
      "name": "python",
      "nbconvert_exporter": "python",
      "pygments_lexer": "ipython3",
      "version": "3.8.11"
    },
    "colab": {
      "provenance": [],
      "collapsed_sections": []
    }
  },
  "nbformat": 4,
  "nbformat_minor": 0
}